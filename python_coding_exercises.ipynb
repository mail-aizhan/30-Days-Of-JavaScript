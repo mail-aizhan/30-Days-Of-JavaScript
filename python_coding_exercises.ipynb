{
  "nbformat": 4,
  "nbformat_minor": 0,
  "metadata": {
    "colab": {
      "name": "python_exercises.ipynb",
      "provenance": [],
      "collapsed_sections": [],
      "authorship_tag": "ABX9TyNqloxIDAuM0gGhJ+ap9EXP",
      "include_colab_link": true
    },
    "kernelspec": {
      "name": "python3",
      "display_name": "Python 3"
    }
  },
  "cells": [
    {
      "cell_type": "markdown",
      "metadata": {
        "id": "view-in-github",
        "colab_type": "text"
      },
      "source": [
        "<a href=\"https://colab.research.google.com/github/mail-aizhan/30-Days-Of-JavaScript/blob/master/python_coding_exercises.ipynb\" target=\"_parent\"><img src=\"https://colab.research.google.com/assets/colab-badge.svg\" alt=\"Open In Colab\"/></a>"
      ]
    },
    {
      "cell_type": "code",
      "metadata": {
        "colab": {
          "base_uri": "https://localhost:8080/"
        },
        "id": "B0k2WuBVqmTb",
        "outputId": "2598f5b4-3a4c-41df-f791-8f8b6beccb43"
      },
      "source": [
        "import random\r\n",
        "def guess(x):\r\n",
        "    random_number = random.randint(1, x) #random numbers are between 1 and x\r\n",
        "    guess=0 #it never be 0\r\n",
        "    while guess != random_number: #random number not equal to guessed number\r\n",
        "      guess = int(input(f'Guess a number between 1 and {x}: '))\r\n",
        "      if guess < random_number:\r\n",
        "        print(\"Sorry, guess again. Too low.\")\r\n",
        "      elif guess > random_number:\r\n",
        "        print(\"Guess again. Too high.\")\r\n",
        "      \r\n",
        "    print(f\"You have guessed the {random_number} number correctly !!!\") #print guess number\r\n",
        "\r\n",
        "\r\n",
        "def computer_guess(x):\r\n",
        "    low =1\r\n",
        "    high = x\r\n",
        "    feedback = \"\"\r\n",
        "    while feedback != 'c':\r\n",
        "      if low != high:\r\n",
        "         guess = random.randint(low, high)\r\n",
        "      else:\r\n",
        "        guess = low #could also be high or low\r\n",
        "      feedback = input(f\"Is {guess} too high (H), too low (L), or correct (C)!!!\").lower()\r\n",
        "      if feedback == 'h':\r\n",
        "        high= guess - 1\r\n",
        "      elif feedback =='l':\r\n",
        "        low = guess + 1\r\n",
        "    print(f\"Yay , the computer guessed your {guess} correctly!\")\r\n",
        "\r\n",
        "computer_guess(100)\r\n",
        "\r\n"
      ],
      "execution_count": 20,
      "outputs": [
        {
          "output_type": "stream",
          "text": [
            "Is 26 too high (H), too low (L), or correct (C)!!!l\n",
            "Is 74 too high (H), too low (L), or correct (C)!!!l\n",
            "Is 93 too high (H), too low (L), or correct (C)!!!l\n",
            "Is 98 too high (H), too low (L), or correct (C)!!!l\n",
            "Is 99 too high (H), too low (L), or correct (C)!!!l\n",
            "Is 100 too high (H), too low (L), or correct (C)!!!c\n",
            "Yay , the computer guessed your 100 correctly!\n"
          ],
          "name": "stdout"
        }
      ]
    },
    {
      "cell_type": "code",
      "metadata": {
        "id": "F-7GLxIP6ca8"
      },
      "source": [
        ""
      ],
      "execution_count": null,
      "outputs": []
    },
    {
      "cell_type": "code",
      "metadata": {
        "id": "xiMZl0a1xnF1"
      },
      "source": [
        ""
      ],
      "execution_count": null,
      "outputs": []
    },
    {
      "cell_type": "code",
      "metadata": {
        "id": "YGGvWhzAxnRY"
      },
      "source": [
        ""
      ],
      "execution_count": null,
      "outputs": []
    },
    {
      "cell_type": "code",
      "metadata": {
        "id": "GY7sprwoxnYg"
      },
      "source": [
        ""
      ],
      "execution_count": null,
      "outputs": []
    },
    {
      "cell_type": "code",
      "metadata": {
        "id": "U5r699goxnb_"
      },
      "source": [
        ""
      ],
      "execution_count": null,
      "outputs": []
    },
    {
      "cell_type": "code",
      "metadata": {
        "id": "LFsT-FJkxnhY"
      },
      "source": [
        ""
      ],
      "execution_count": null,
      "outputs": []
    },
    {
      "cell_type": "code",
      "metadata": {
        "id": "4QRaFpP9xnk6"
      },
      "source": [
        ""
      ],
      "execution_count": null,
      "outputs": []
    },
    {
      "cell_type": "code",
      "metadata": {
        "id": "yqPh7Iolv-Zi"
      },
      "source": [
        ""
      ],
      "execution_count": null,
      "outputs": []
    }
  ]
}